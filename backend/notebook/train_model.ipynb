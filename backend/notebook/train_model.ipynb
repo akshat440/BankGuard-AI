{
 "cells": [
  {
   "cell_type": "code",
   "execution_count": 1,
   "id": "fdc3f01f",
   "metadata": {},
   "outputs": [],
   "source": [
    "import pandas as pd\n",
    "import numpy as np\n",
    "from sklearn.model_selection import train_test_split\n",
    "from sklearn.ensemble import RandomForestClassifier\n",
    "from sklearn.feature_selection import SelectKBest, mutual_info_classif\n",
    "from sklearn.metrics import classification_report, confusion_matrix\n",
    "import joblib\n",
    "import os"
   ]
  },
  {
   "cell_type": "code",
   "execution_count": 2,
   "id": "ab18980a",
   "metadata": {},
   "outputs": [],
   "source": [
    "BASE_DIR = os.path.abspath(\"..\")  # adjust if needed\n",
    "DATASET_PATH = os.path.join(BASE_DIR, \"data\",  \"fullset_train_cs.csv\")\n",
    "MODEL_PATH = os.path.join(BASE_DIR, \"data\", \"trained_models\", \"rf_model.pkl\")\n",
    "FEATURE_SELECTOR_PATH = os.path.join(BASE_DIR, \"data\", \"trained_models\", \"feature_selector.pkl\")\n"
   ]
  },
  {
   "cell_type": "code",
   "execution_count": 3,
   "id": "e9bd7153",
   "metadata": {},
   "outputs": [
    {
     "name": "stdout",
     "output_type": "stream",
     "text": [
      "Dataset Shape: (2927, 957)\n",
      "Columns: Index(['0', '0.1', '0.2', '0.3', '0.4', '0.5', '0.6', '0.7', '0.8', '0.9'], dtype='object')\n",
      "Dataset shape: (2927, 956) Labels: [ 864 2063]\n"
     ]
    }
   ],
   "source": [
    "df = pd.read_csv(DATASET_PATH)\n",
    "\n",
    "print(\"Dataset Shape:\", df.shape)\n",
    "print(\"Columns:\", df.columns[:10])  # show first 10 cols\n",
    "# Label is the column '0.951'\n",
    "y = df[\"0.951\"].values\n",
    "\n",
    "# Features = all other columns\n",
    "X = df.drop(columns=[\"0.951\"]).values\n",
    "\n",
    "print(\"Dataset shape:\", X.shape, \"Labels:\", np.bincount(y))\n",
    "\n"
   ]
  },
  {
   "cell_type": "code",
   "execution_count": 4,
   "id": "6905f076",
   "metadata": {},
   "outputs": [
    {
     "name": "stdout",
     "output_type": "stream",
     "text": [
      "Train shape: (2341, 956) Test shape: (586, 956)\n"
     ]
    }
   ],
   "source": [
    "from sklearn.model_selection import train_test_split\n",
    "\n",
    "# Train-test split (80% train, 20% test)\n",
    "X_train, X_test, y_train, y_test = train_test_split(\n",
    "    X, y, test_size=0.2, random_state=42, stratify=y\n",
    ")\n",
    "\n",
    "print(\"Train shape:\", X_train.shape, \"Test shape:\", X_test.shape)\n"
   ]
  },
  {
   "cell_type": "code",
   "execution_count": 5,
   "id": "e7837d86",
   "metadata": {},
   "outputs": [
    {
     "name": "stdout",
     "output_type": "stream",
     "text": [
      "Frequency-selected features: 541\n"
     ]
    }
   ],
   "source": [
    "import numpy as np\n",
    "\n",
    "freq_threshold = 50  # threshold for frequency\n",
    "malicious_freq = np.sum(X_train[y_train==1], axis=0)\n",
    "benign_freq = np.sum(X_train[y_train==0], axis=0)\n",
    "\n",
    "freq_features = np.where(\n",
    "    (malicious_freq > freq_threshold) | (benign_freq > freq_threshold)\n",
    ")[0]\n",
    "\n",
    "print(\"Frequency-selected features:\", len(freq_features))\n"
   ]
  },
  {
   "cell_type": "code",
   "execution_count": 6,
   "id": "143f28cf",
   "metadata": {},
   "outputs": [
    {
     "name": "stdout",
     "output_type": "stream",
     "text": [
      "\n",
      "--- Frequency-only ---\n",
      "Accuracy: 0.9590443686006825\n",
      "              precision    recall  f1-score   support\n",
      "\n",
      "           0       0.93      0.93      0.93       173\n",
      "           1       0.97      0.97      0.97       413\n",
      "\n",
      "    accuracy                           0.96       586\n",
      "   macro avg       0.95      0.95      0.95       586\n",
      "weighted avg       0.96      0.96      0.96       586\n",
      "\n"
     ]
    }
   ],
   "source": [
    "from sklearn.ensemble import RandomForestClassifier\n",
    "from sklearn.metrics import classification_report, accuracy_score\n",
    "\n",
    "def train_rf(features, label):\n",
    "    rf = RandomForestClassifier(n_estimators=200, random_state=42)\n",
    "    rf.fit(features, label)\n",
    "    return rf\n",
    "\n",
    "def evaluate(rf, X_test, y_test, name):\n",
    "    y_pred = rf.predict(X_test)\n",
    "    print(f\"\\n--- {name} ---\")\n",
    "    print(\"Accuracy:\", accuracy_score(y_test, y_pred))\n",
    "    print(classification_report(y_test, y_pred))\n",
    "\n",
    "# (a) Frequency-only\n",
    "rf_freq = train_rf(X_train[:, freq_features], y_train)\n",
    "evaluate(rf_freq, X_test[:, freq_features], y_test, \"Frequency-only\")\n"
   ]
  },
  {
   "cell_type": "code",
   "execution_count": 8,
   "id": "28fcd118",
   "metadata": {},
   "outputs": [
    {
     "name": "stdout",
     "output_type": "stream",
     "text": [
      "✅ Model and feature indices saved successfully!\n"
     ]
    }
   ],
   "source": [
    "import joblib\n",
    "\n",
    "# Save trained Random Forest model\n",
    "joblib.dump(rf_freq, \"random_forest_apk.pkl\")\n",
    "\n",
    "\n",
    "# Save only the selected features (important!)\n",
    "joblib.dump(freq_features, \"features.pkl\")\n",
    "\n",
    "\n",
    "print(\"✅ Model and feature indices saved successfully!\")\n"
   ]
  },
  {
   "cell_type": "code",
   "execution_count": 9,
   "id": "98ca53a9",
   "metadata": {},
   "outputs": [
    {
     "name": "stdout",
     "output_type": "stream",
     "text": [
      "✅ Test dataset saved\n"
     ]
    }
   ],
   "source": [
    "import pandas as pd\n",
    "\n",
    "# Convert numpy arrays back into a DataFrame for saving\n",
    "X_test_df = pd.DataFrame(X_test)\n",
    "y_test_df = pd.DataFrame(y_test, columns=[\"label\"])\n",
    "\n",
    "# Save test set\n",
    "X_test_df.to_csv(\"X_test.csv\", index=False)\n",
    "y_test_df.to_csv(\"y_test.csv\", index=False)\n",
    "\n",
    "print(\"✅ Test dataset saved\")\n"
   ]
  },
  {
   "cell_type": "code",
   "execution_count": 11,
   "id": "05310ff4",
   "metadata": {},
   "outputs": [
    {
     "name": "stdout",
     "output_type": "stream",
     "text": [
      "✅ Test Accuracy: 0.9590443686006825\n",
      "\n",
      "Classification Report:\n",
      "               precision    recall  f1-score   support\n",
      "\n",
      "           0       0.93      0.93      0.93       173\n",
      "           1       0.97      0.97      0.97       413\n",
      "\n",
      "    accuracy                           0.96       586\n",
      "   macro avg       0.95      0.95      0.95       586\n",
      "weighted avg       0.96      0.96      0.96       586\n",
      "\n"
     ]
    },
    {
     "name": "stderr",
     "output_type": "stream",
     "text": [
      "/opt/anaconda3/lib/python3.12/site-packages/sklearn/base.py:486: UserWarning: X has feature names, but RandomForestClassifier was fitted without feature names\n",
      "  warnings.warn(\n"
     ]
    }
   ],
   "source": [
    "import joblib\n",
    "import pandas as pd\n",
    "from sklearn.metrics import classification_report, accuracy_score\n",
    "\n",
    "# Load model and features\n",
    "rf_model = joblib.load(\"random_forest_apk.pkl\")\n",
    "selected_features = joblib.load(\"features.pkl\")  # indices\n",
    "\n",
    "# Load test set\n",
    "X_test = pd.read_csv(\"X_test.csv\")\n",
    "y_test = pd.read_csv(\"y_test.csv\")[\"label\"]\n",
    "\n",
    "# Select same features used during training\n",
    "X_test_selected = X_test.iloc[:, selected_features]\n",
    "\n",
    "# Predict\n",
    "y_pred = rf_model.predict(X_test_selected)\n",
    "\n",
    "# Evaluate\n",
    "print(\"✅ Test Accuracy:\", accuracy_score(y_test, y_pred))\n",
    "print(\"\\nClassification Report:\\n\", classification_report(y_test, y_pred))\n"
   ]
  },
  {
   "cell_type": "code",
   "execution_count": 13,
   "id": "39cbc6bc",
   "metadata": {},
   "outputs": [
    {
     "name": "stderr",
     "output_type": "stream",
     "text": [
      "/opt/anaconda3/lib/python3.12/site-packages/sklearn/base.py:486: UserWarning: X has feature names, but RandomForestClassifier was fitted without feature names\n",
      "  warnings.warn(\n"
     ]
    },
    {
     "name": "stdout",
     "output_type": "stream",
     "text": [
      "Confusion Matrix:\n",
      " [[161  12]\n",
      " [ 12 401]]\n"
     ]
    },
    {
     "data": {
      "image/png": "[encoded data removed]",
      "text/plain": [
       "<Figure size 640x480 with 2 Axes>"
      ]
     },
     "metadata": {},
     "output_type": "display_data"
    }
   ],
   "source": [
    "from sklearn.metrics import confusion_matrix, ConfusionMatrixDisplay\n",
    "import matplotlib.pyplot as plt\n",
    "\n",
    "# Select features correctly depending on type\n",
    "X_test_selected = X_test.iloc[:, freq_features]  # if DataFrame\n",
    "# X_test_selected = X_test[:, freq_features]    # if NumPy array\n",
    "\n",
    "# Predict\n",
    "y_test_pred = rf_model.predict(X_test_selected)\n",
    "\n",
    "# Confusion matrix\n",
    "cm = confusion_matrix(y_test, y_test_pred)\n",
    "print(\"Confusion Matrix:\\n\", cm)\n",
    "\n",
    "# Plot\n",
    "disp = ConfusionMatrixDisplay(confusion_matrix=cm, display_labels=[\"Benign\", \"Malicious\"])\n",
    "disp.plot(cmap=plt.cm.Blues)\n",
    "plt.title(\"Random Forest Confusion Matrix\")\n",
    "plt.show()\n"
   ]
  },
  {
   "cell_type": "code",
   "execution_count": null,
   "id": "2d636615",
   "metadata": {},
   "outputs": [
    {
     "name": "stdout",
     "output_type": "stream",
     "text": [
      "Random Forest model saved at: /Users/ganavimc/Desktop/Cyber Sheild/backend/data/trained_models/rf_model.pkl\n"
     ]
    }
   ],
   "source": [
    "import joblib\n",
    "import os\n",
    "\n",
    "# Make sure the directory exists\n",
    "os.makedirs(os.path.dirname(MODEL_PATH), exist_ok=True)\n",
    "\n",
    "# Save Random Forest model\n",
    "joblib.dump(rf_freq, MODEL_PATH)\n",
    "print(\"Random Forest model saved at:\", MODEL_PATH)\n"
   ]
  },
  {
   "cell_type": "code",
   "execution_count": null,
   "id": "dfde5813",
   "metadata": {},
   "outputs": [
    {
     "name": "stdout",
     "output_type": "stream",
     "text": [
      "Selected features saved at: /Users/ganavimc/Desktop/Cyber Sheild/backend/data/trained_models/feature_selector.pkl\n"
     ]
    }
   ],
   "source": [
    "joblib.dump(freq_features, FEATURE_SELECTOR_PATH)\n",
    "print(\"Selected features saved at:\", FEATURE_SELECTOR_PATH)\n"
   ]
  },
  {
   "cell_type": "code",
   "execution_count": null,
   "id": "f99f6b1d",
   "metadata": {},
   "outputs": [
    {
     "name": "stdout",
     "output_type": "stream",
     "text": [
      "Model and feature selector loaded successfully.\n"
     ]
    }
   ],
   "source": [
    "import pandas as pd\n",
    "import joblib\n",
    "import os\n",
    "\n",
    "# -----------------------------\n",
    "# 1️⃣ Provide full file paths directly\n",
    "# -----------------------------\n",
    "# Copy the full path from your system for the model and feature selector\n",
    "MODEL_PATH = \"/Users/ganavimc/Desktop/Cyber Sheild/backend/data/random_forest_apk.pkl\"\n",
    "FEATURE_SELECTOR_PATH = \"/Users/ganavimc/Desktop/Cyber Sheild/backend/notebook/features.pkl\"\n",
    "\n",
    "# Load Random Forest model and selected feature indices\n",
    "rf_model = joblib.load(MODEL_PATH)\n",
    "selected_features = joblib.load(FEATURE_SELECTOR_PATH)\n",
    "\n",
    "print(\"Model and feature selector loaded successfully.\")\n",
    "\n",
    "# -----------------------------\n",
    "# 2️⃣ Define inference function\n",
    "# -----------------------------\n",
    "def predict_apks(X_new):\n",
    "    \"\"\"\n",
    "    Predict if APKs are malicious or benign using the trained Random Forest model.\n",
    "\n",
    "    Parameters:\n",
    "        X_new (pd.DataFrame): DataFrame with the same features as training before selection.\n",
    "    \n",
    "    Returns:\n",
    "        pd.DataFrame: Predictions with probabilities\n",
    "    \"\"\"\n",
    "    # Ensure X_new is a DataFrame\n",
    "    if not isinstance(X_new, pd.DataFrame):\n",
    "        X_new = pd.DataFrame(X_new)\n",
    "    \n",
    "    # Select the same features as training\n",
    "    X_selected = X_new.iloc[:, selected_features]\n",
    "    \n",
    "    # Predict class labels\n",
    "    y_pred = rf_model.predict(X_selected)\n",
    "    \n",
    "    # Predict probabilities for class 1 (malicious)\n",
    "    y_prob = rf_model.predict_proba(X_selected)[:, 1]\n",
    "    \n",
    "    # Prepare results DataFrame\n",
    "    results_df = pd.DataFrame({\n",
    "        \"APK_ID\": range(1, len(y_pred)+1),\n",
    "        \"Prediction\": y_pred,\n",
    "        \"Probability\": y_prob\n",
    "    })\n",
    "    \n",
    "    # Map 0/1 to readable labels\n",
    "    results_df[\"Prediction\"] = results_df[\"Prediction\"].map({0: \"Benign\", 1: \"Malicious\"})\n",
    "    \n",
    "    return results_df\n",
    "\n",
    "# -----------------------------\n",
    "# 3️⃣ Example usage\n",
    "# -----------------------------\n",
    "# X_new_df = pd.read_csv(\"/Users/yourusername/Desktop/your_project_folder/data/new_apk_features.csv\")\n",
    "# results = predict_apks(X_new_df)\n",
    "# print(results.head())\n",
    "# results.to_csv(\"/Users/yourusername/Desktop/your_project_folder/data/apk_predictions.csv\", index=False)\n",
    "# print(\"Predictions saved.\")\n"
   ]
  }
 ],
 "metadata": {
  "kernelspec": {
   "display_name": "base",
   "language": "python",
   "name": "python3"
  },
  "language_info": {
   "codemirror_mode": {
    "name": "ipython",
    "version": 3
   },
   "file_extension": ".py",
   "mimetype": "text/x-python",
   "name": "python",
   "nbconvert_exporter": "python",
   "pygments_lexer": "ipython3",
   "version": "3.12.2"
  }
 },
 "nbformat": 4,
 "nbformat_minor": 5
}
